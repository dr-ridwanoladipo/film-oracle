{
 "cells": [
  {
   "cell_type": "markdown",
   "id": "4f11f85e-91ba-4e55-9aa7-effe1962f9f1",
   "metadata": {},
   "source": [
    "# **Collaborative-Based Filtering**"
   ]
  },
  {
   "cell_type": "code",
   "execution_count": 25,
   "id": "79e62e33-1995-4165-bf99-09f6755ca8ba",
   "metadata": {},
   "outputs": [
    {
     "data": {
      "text/html": [
       "<div>\n",
       "<style scoped>\n",
       "    .dataframe tbody tr th:only-of-type {\n",
       "        vertical-align: middle;\n",
       "    }\n",
       "\n",
       "    .dataframe tbody tr th {\n",
       "        vertical-align: top;\n",
       "    }\n",
       "\n",
       "    .dataframe thead th {\n",
       "        text-align: right;\n",
       "    }\n",
       "</style>\n",
       "<table border=\"1\" class=\"dataframe\">\n",
       "  <thead>\n",
       "    <tr style=\"text-align: right;\">\n",
       "      <th></th>\n",
       "      <th>userId</th>\n",
       "      <th>movieId</th>\n",
       "      <th>rating</th>\n",
       "    </tr>\n",
       "  </thead>\n",
       "  <tbody>\n",
       "    <tr>\n",
       "      <th>0</th>\n",
       "      <td>1</td>\n",
       "      <td>31</td>\n",
       "      <td>2.5</td>\n",
       "    </tr>\n",
       "    <tr>\n",
       "      <th>1</th>\n",
       "      <td>1</td>\n",
       "      <td>1029</td>\n",
       "      <td>3.0</td>\n",
       "    </tr>\n",
       "    <tr>\n",
       "      <th>2</th>\n",
       "      <td>1</td>\n",
       "      <td>1061</td>\n",
       "      <td>3.0</td>\n",
       "    </tr>\n",
       "    <tr>\n",
       "      <th>3</th>\n",
       "      <td>1</td>\n",
       "      <td>1129</td>\n",
       "      <td>2.0</td>\n",
       "    </tr>\n",
       "    <tr>\n",
       "      <th>4</th>\n",
       "      <td>1</td>\n",
       "      <td>1172</td>\n",
       "      <td>4.0</td>\n",
       "    </tr>\n",
       "  </tbody>\n",
       "</table>\n",
       "</div>"
      ],
      "text/plain": [
       "   userId  movieId  rating\n",
       "0       1       31     2.5\n",
       "1       1     1029     3.0\n",
       "2       1     1061     3.0\n",
       "3       1     1129     2.0\n",
       "4       1     1172     4.0"
      ]
     },
     "execution_count": 25,
     "metadata": {},
     "output_type": "execute_result"
    }
   ],
   "source": [
    "import pandas as pd\n",
    "ratings = pd.read_csv(\"ratings.csv\")[[\"userId\", \"movieId\", \"rating\"]]\n",
    "ratings.head()"
   ]
  },
  {
   "cell_type": "markdown",
   "id": "1e959a59-5d6a-41ad-82de-3863ea54f923",
   "metadata": {},
   "source": [
    "### **Create the dataset**"
   ]
  },
  {
   "cell_type": "code",
   "execution_count": 14,
   "id": "bac3fc65-0e92-439d-9d2a-8e31421d766c",
   "metadata": {},
   "outputs": [],
   "source": [
    "from surprise import SVD, Dataset, Reader\n",
    "\n",
    "# Creating a Reader object with the rating scale\n",
    "reader = Reader(rating_scale=(1, 5))\n",
    "\n",
    "# Loading the dataset from a pandas DataFrame (rating)\n",
    "dataset = Dataset.load_from_df(rating, reader)\n"
   ]
  },
  {
   "cell_type": "markdown",
   "id": "990b3868-b666-4f07-a383-2d0b2dfad306",
   "metadata": {},
   "source": [
    "### **Build the trainset**"
   ]
  },
  {
   "cell_type": "code",
   "execution_count": 27,
   "id": "2ff2519e-4709-4faa-85b1-0e58fe6d12d7",
   "metadata": {},
   "outputs": [],
   "source": [
    "# Build the full trainset from the dataset\n",
    "trainset = dataset.build_full_trainset()\n",
    "\n",
    "# Convert the trainset's ratings to a list\n",
    "list(trainset.all_ratings())"
   ]
  },
  {
   "cell_type": "markdown",
   "id": "ace0e4a9-1f58-4856-8e2b-11ee817236ca",
   "metadata": {},
   "source": [
    "### **Train the Model**"
   ]
  },
  {
   "cell_type": "code",
   "execution_count": null,
   "id": "403d7b18-c904-4ab2-aadc-8b6ae35997e0",
   "metadata": {},
   "outputs": [],
   "source": [
    "svd = SVD()\n",
    "svd .fit(trainset)"
   ]
  },
  {
   "cell_type": "code",
   "execution_count": null,
   "id": "b5a2ec70-923d-40e1-8de6-69f4f3010a2e",
   "metadata": {},
   "outputs": [],
   "source": [
    "svd.predict(15, 1956)"
   ]
  },
  {
   "cell_type": "markdown",
   "id": "d7df4a47-4ac2-4117-b2ce-e8c190287f55",
   "metadata": {},
   "source": [
    "### **Validation**"
   ]
  },
  {
   "cell_type": "code",
   "execution_count": null,
   "id": "bf8f4309-8b34-46f3-b1d5-d682e56ceb4d",
   "metadata": {},
   "outputs": [],
   "source": [
    "from surprise import model_selection\n",
    "\n",
    "model_selection.cross_validate(svd, dataset, measures=[\"RMSE\", \"MAE\"])"
   ]
  }
 ],
 "metadata": {
  "kernelspec": {
   "display_name": "Python 3 (ipykernel)",
   "language": "python",
   "name": "python3"
  },
  "language_info": {
   "codemirror_mode": {
    "name": "ipython",
    "version": 3
   },
   "file_extension": ".py",
   "mimetype": "text/x-python",
   "name": "python",
   "nbconvert_exporter": "python",
   "pygments_lexer": "ipython3",
   "version": "3.12.4"
  }
 },
 "nbformat": 4,
 "nbformat_minor": 5
}
