{
 "cells": [
  {
   "cell_type": "code",
   "execution_count": 9,
   "id": "ab8505e1-2e8f-4603-b200-1f57053383ee",
   "metadata": {},
   "outputs": [],
   "source": [
    "import pandas as pd"
   ]
  },
  {
   "cell_type": "code",
   "execution_count": 10,
   "id": "81e77cc3-2c0e-423f-86c7-8b8107f00769",
   "metadata": {},
   "outputs": [],
   "source": [
    "import numpy as np"
   ]
  },
  {
   "cell_type": "code",
   "execution_count": 11,
   "id": "9839b69f-ad4c-442d-8127-851b97fe4d0c",
   "metadata": {},
   "outputs": [],
   "source": [
    "from sklearn.decomposition import TruncatedSVD\n",
    "from sklearn.metrics.pairwise import cosine_similarity"
   ]
  },
  {
   "cell_type": "code",
   "execution_count": 14,
   "id": "cf78f8c6-d448-4c64-862d-1e00b4518464",
   "metadata": {},
   "outputs": [
    {
     "data": {
      "text/html": [
       "<div>\n",
       "<style scoped>\n",
       "    .dataframe tbody tr th:only-of-type {\n",
       "        vertical-align: middle;\n",
       "    }\n",
       "\n",
       "    .dataframe tbody tr th {\n",
       "        vertical-align: top;\n",
       "    }\n",
       "\n",
       "    .dataframe thead th {\n",
       "        text-align: right;\n",
       "    }\n",
       "</style>\n",
       "<table border=\"1\" class=\"dataframe\">\n",
       "  <thead>\n",
       "    <tr style=\"text-align: right;\">\n",
       "      <th></th>\n",
       "      <th>userId</th>\n",
       "      <th>movieId</th>\n",
       "      <th>rating</th>\n",
       "    </tr>\n",
       "  </thead>\n",
       "  <tbody>\n",
       "    <tr>\n",
       "      <th>0</th>\n",
       "      <td>1</td>\n",
       "      <td>31</td>\n",
       "      <td>2.5</td>\n",
       "    </tr>\n",
       "    <tr>\n",
       "      <th>1</th>\n",
       "      <td>1</td>\n",
       "      <td>1029</td>\n",
       "      <td>3.0</td>\n",
       "    </tr>\n",
       "    <tr>\n",
       "      <th>2</th>\n",
       "      <td>1</td>\n",
       "      <td>1061</td>\n",
       "      <td>3.0</td>\n",
       "    </tr>\n",
       "    <tr>\n",
       "      <th>3</th>\n",
       "      <td>1</td>\n",
       "      <td>1129</td>\n",
       "      <td>2.0</td>\n",
       "    </tr>\n",
       "    <tr>\n",
       "      <th>4</th>\n",
       "      <td>1</td>\n",
       "      <td>1172</td>\n",
       "      <td>4.0</td>\n",
       "    </tr>\n",
       "  </tbody>\n",
       "</table>\n",
       "</div>"
      ],
      "text/plain": [
       "   userId  movieId  rating\n",
       "0       1       31     2.5\n",
       "1       1     1029     3.0\n",
       "2       1     1061     3.0\n",
       "3       1     1129     2.0\n",
       "4       1     1172     4.0"
      ]
     },
     "execution_count": 14,
     "metadata": {},
     "output_type": "execute_result"
    }
   ],
   "source": [
    "# Load the dataset\n",
    "ratings = pd.read_csv(\"ratings.csv\")[[\"userId\", \"movieId\", \"rating\"]]\n",
    "ratings.head()"
   ]
  },
  {
   "cell_type": "code",
   "execution_count": 15,
   "id": "1d7f3ca6-953d-44c6-817f-4ecff6e7529b",
   "metadata": {},
   "outputs": [],
   "source": [
    "# Create a pivot table with users as rows and movies as columns\n",
    "ratings_pivot = ratings.pivot(index='userId', columns='movieId', values='rating').fillna(0)"
   ]
  },
  {
   "cell_type": "code",
   "execution_count": 16,
   "id": "1aa7674d-8d91-4eb1-8858-b2b177048413",
   "metadata": {},
   "outputs": [],
   "source": [
    "# Apply Singular Value Decomposition (SVD)\n",
    "svd = TruncatedSVD(n_components=20, random_state=42)\n",
    "matrix = svd.fit_transform(ratings_pivot)"
   ]
  },
  {
   "cell_type": "code",
   "execution_count": 17,
   "id": "b2b6c65a-547c-4cc4-8c20-eab2d805d087",
   "metadata": {},
   "outputs": [],
   "source": [
    "# Calculate similarity matrix using cosine similarity\n",
    "similarity_matrix = cosine_similarity(matrix)"
   ]
  },
  {
   "cell_type": "code",
   "execution_count": 18,
   "id": "088859b4-f0db-45a5-a2ab-afaab48331d3",
   "metadata": {},
   "outputs": [],
   "source": [
    "# Function to recommend movies based on collaborative filtering\n",
    "def recommend_movies(user_id, n_recommendations):\n",
    "    # Find the index of the user in the pivot table\n",
    "    user_idx = ratings_pivot.index.get_loc(user_id)\n",
    "    \n",
    "    # Get similarity scores for the user\n",
    "    similarity_scores = list(enumerate(similarity_matrix[user_idx]))\n",
    "    \n",
    "    # Sort similarity scores in descending order\n",
    "    sorted_scores = sorted(similarity_scores, key=lambda x: x[1], reverse=True)\n",
    "    \n",
    "    # Get the top n users\n",
    "    top_users = [idx for idx, score in sorted_scores[1:n_recommendations+1]]\n",
    "    \n",
    "    # Get movie recommendations based on similar users\n",
    "    recommended_movies = ratings_pivot.iloc[top_users].mean(axis=0).sort_values(ascending=False)\n",
    "    \n",
    "    # Return the top n recommended movies\n",
    "    return recommended_movies.head(n_recommendations).index.tolist()"
   ]
  },
  {
   "cell_type": "code",
   "execution_count": 19,
   "id": "9a6f102f-9036-45a0-8395-7c7315ff5b8b",
   "metadata": {},
   "outputs": [],
   "source": [
    "# Example: Recommend 5 movies for user with userId 15\n",
    "recommended_movies = recommend_movies(user_id=15, n_recommendations=5)"
   ]
  },
  {
   "cell_type": "code",
   "execution_count": 20,
   "id": "c1439282-b6d8-402e-86c8-c9f248d540ec",
   "metadata": {},
   "outputs": [
    {
     "data": {
      "text/plain": [
       "[3481, 2997, 1060, 1259, 1466]"
      ]
     },
     "execution_count": 20,
     "metadata": {},
     "output_type": "execute_result"
    }
   ],
   "source": [
    "recommended_movies"
   ]
  },
  {
   "cell_type": "code",
   "execution_count": null,
   "id": "f787d5e6-28cb-4d07-9f9d-195cac4c3e99",
   "metadata": {},
   "outputs": [],
   "source": []
  }
 ],
 "metadata": {
  "kernelspec": {
   "display_name": "Python 3 (ipykernel)",
   "language": "python",
   "name": "python3"
  },
  "language_info": {
   "codemirror_mode": {
    "name": "ipython",
    "version": 3
   },
   "file_extension": ".py",
   "mimetype": "text/x-python",
   "name": "python",
   "nbconvert_exporter": "python",
   "pygments_lexer": "ipython3",
   "version": "3.12.5"
  }
 },
 "nbformat": 4,
 "nbformat_minor": 5
}
